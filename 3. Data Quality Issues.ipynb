{
 "cells": [
  {
   "cell_type": "markdown",
   "id": "94b59114",
   "metadata": {},
   "source": [
    "# Data Quality Issues:\n",
    "1. Checking if data types are correct \n",
    "2. Checking if there are missing values or null values \n",
    "3. Checking if there are outliers\n",
    "4. Checking if there are duplicate records"
   ]
  },
  {
   "cell_type": "code",
   "execution_count": 129,
   "id": "031e4481",
   "metadata": {},
   "outputs": [],
   "source": [
    "# Load in necessary library\n",
    "import numpy as np\n",
    "import pandas as pd\n",
    "import json\n",
    "import matplotlib.pyplot as plt"
   ]
  },
  {
   "cell_type": "markdown",
   "id": "dfc0820e",
   "metadata": {},
   "source": [
    "## Receipts Data Schema "
   ]
  },
  {
   "cell_type": "code",
   "execution_count": 235,
   "id": "9dec9015",
   "metadata": {},
   "outputs": [],
   "source": [
    "# read in receipts file\n",
    "receipts = pd.read_json('receipts.json', lines=True)"
   ]
  },
  {
   "cell_type": "code",
   "execution_count": 265,
   "id": "b8b2381a",
   "metadata": {},
   "outputs": [
    {
     "data": {
      "text/html": [
       "<div>\n",
       "<style scoped>\n",
       "    .dataframe tbody tr th:only-of-type {\n",
       "        vertical-align: middle;\n",
       "    }\n",
       "\n",
       "    .dataframe tbody tr th {\n",
       "        vertical-align: top;\n",
       "    }\n",
       "\n",
       "    .dataframe thead th {\n",
       "        text-align: right;\n",
       "    }\n",
       "</style>\n",
       "<table border=\"1\" class=\"dataframe\">\n",
       "  <thead>\n",
       "    <tr style=\"text-align: right;\">\n",
       "      <th></th>\n",
       "      <th>_id</th>\n",
       "      <th>bonusPointsEarned</th>\n",
       "      <th>bonusPointsEarnedReason</th>\n",
       "      <th>createDate</th>\n",
       "      <th>dateScanned</th>\n",
       "      <th>finishedDate</th>\n",
       "      <th>modifyDate</th>\n",
       "      <th>pointsAwardedDate</th>\n",
       "      <th>pointsEarned</th>\n",
       "      <th>purchaseDate</th>\n",
       "      <th>purchasedItemCount</th>\n",
       "      <th>rewardsReceiptItemList</th>\n",
       "      <th>rewardsReceiptStatus</th>\n",
       "      <th>totalSpent</th>\n",
       "      <th>userId</th>\n",
       "    </tr>\n",
       "  </thead>\n",
       "  <tbody>\n",
       "    <tr>\n",
       "      <th>0</th>\n",
       "      <td>{'$oid': '5ff1e1eb0a720f0523000575'}</td>\n",
       "      <td>500.0</td>\n",
       "      <td>Receipt number 2 completed, bonus point schedu...</td>\n",
       "      <td>{'$date': 1609687531000}</td>\n",
       "      <td>{'$date': 1609687531000}</td>\n",
       "      <td>{'$date': 1609687531000}</td>\n",
       "      <td>{'$date': 1609687536000}</td>\n",
       "      <td>{'$date': 1609687531000}</td>\n",
       "      <td>500.0</td>\n",
       "      <td>{'$date': 1609632000000}</td>\n",
       "      <td>5.0</td>\n",
       "      <td>[{'barcode': '4011', 'description': 'ITEM NOT ...</td>\n",
       "      <td>FINISHED</td>\n",
       "      <td>26.0</td>\n",
       "      <td>5ff1e1eacfcf6c399c274ae6</td>\n",
       "    </tr>\n",
       "    <tr>\n",
       "      <th>1</th>\n",
       "      <td>{'$oid': '5ff1e1bb0a720f052300056b'}</td>\n",
       "      <td>150.0</td>\n",
       "      <td>Receipt number 5 completed, bonus point schedu...</td>\n",
       "      <td>{'$date': 1609687483000}</td>\n",
       "      <td>{'$date': 1609687483000}</td>\n",
       "      <td>{'$date': 1609687483000}</td>\n",
       "      <td>{'$date': 1609687488000}</td>\n",
       "      <td>{'$date': 1609687483000}</td>\n",
       "      <td>150.0</td>\n",
       "      <td>{'$date': 1609601083000}</td>\n",
       "      <td>2.0</td>\n",
       "      <td>[{'barcode': '4011', 'description': 'ITEM NOT ...</td>\n",
       "      <td>FINISHED</td>\n",
       "      <td>11.0</td>\n",
       "      <td>5ff1e194b6a9d73a3a9f1052</td>\n",
       "    </tr>\n",
       "    <tr>\n",
       "      <th>2</th>\n",
       "      <td>{'$oid': '5ff1e1f10a720f052300057a'}</td>\n",
       "      <td>5.0</td>\n",
       "      <td>All-receipts receipt bonus</td>\n",
       "      <td>{'$date': 1609687537000}</td>\n",
       "      <td>{'$date': 1609687537000}</td>\n",
       "      <td>NaN</td>\n",
       "      <td>{'$date': 1609687542000}</td>\n",
       "      <td>NaN</td>\n",
       "      <td>5.0</td>\n",
       "      <td>{'$date': 1609632000000}</td>\n",
       "      <td>1.0</td>\n",
       "      <td>[{'needsFetchReview': False, 'partnerItemId': ...</td>\n",
       "      <td>REJECTED</td>\n",
       "      <td>10.0</td>\n",
       "      <td>5ff1e1f1cfcf6c399c274b0b</td>\n",
       "    </tr>\n",
       "    <tr>\n",
       "      <th>3</th>\n",
       "      <td>{'$oid': '5ff1e1ee0a7214ada100056f'}</td>\n",
       "      <td>5.0</td>\n",
       "      <td>All-receipts receipt bonus</td>\n",
       "      <td>{'$date': 1609687534000}</td>\n",
       "      <td>{'$date': 1609687534000}</td>\n",
       "      <td>{'$date': 1609687534000}</td>\n",
       "      <td>{'$date': 1609687539000}</td>\n",
       "      <td>{'$date': 1609687534000}</td>\n",
       "      <td>5.0</td>\n",
       "      <td>{'$date': 1609632000000}</td>\n",
       "      <td>4.0</td>\n",
       "      <td>[{'barcode': '4011', 'description': 'ITEM NOT ...</td>\n",
       "      <td>FINISHED</td>\n",
       "      <td>28.0</td>\n",
       "      <td>5ff1e1eacfcf6c399c274ae6</td>\n",
       "    </tr>\n",
       "    <tr>\n",
       "      <th>4</th>\n",
       "      <td>{'$oid': '5ff1e1d20a7214ada1000561'}</td>\n",
       "      <td>5.0</td>\n",
       "      <td>All-receipts receipt bonus</td>\n",
       "      <td>{'$date': 1609687506000}</td>\n",
       "      <td>{'$date': 1609687506000}</td>\n",
       "      <td>{'$date': 1609687511000}</td>\n",
       "      <td>{'$date': 1609687511000}</td>\n",
       "      <td>{'$date': 1609687506000}</td>\n",
       "      <td>5.0</td>\n",
       "      <td>{'$date': 1609601106000}</td>\n",
       "      <td>2.0</td>\n",
       "      <td>[{'barcode': '4011', 'description': 'ITEM NOT ...</td>\n",
       "      <td>FINISHED</td>\n",
       "      <td>1.0</td>\n",
       "      <td>5ff1e194b6a9d73a3a9f1052</td>\n",
       "    </tr>\n",
       "  </tbody>\n",
       "</table>\n",
       "</div>"
      ],
      "text/plain": [
       "                                    _id  bonusPointsEarned   \n",
       "0  {'$oid': '5ff1e1eb0a720f0523000575'}              500.0  \\\n",
       "1  {'$oid': '5ff1e1bb0a720f052300056b'}              150.0   \n",
       "2  {'$oid': '5ff1e1f10a720f052300057a'}                5.0   \n",
       "3  {'$oid': '5ff1e1ee0a7214ada100056f'}                5.0   \n",
       "4  {'$oid': '5ff1e1d20a7214ada1000561'}                5.0   \n",
       "\n",
       "                             bonusPointsEarnedReason   \n",
       "0  Receipt number 2 completed, bonus point schedu...  \\\n",
       "1  Receipt number 5 completed, bonus point schedu...   \n",
       "2                         All-receipts receipt bonus   \n",
       "3                         All-receipts receipt bonus   \n",
       "4                         All-receipts receipt bonus   \n",
       "\n",
       "                 createDate               dateScanned   \n",
       "0  {'$date': 1609687531000}  {'$date': 1609687531000}  \\\n",
       "1  {'$date': 1609687483000}  {'$date': 1609687483000}   \n",
       "2  {'$date': 1609687537000}  {'$date': 1609687537000}   \n",
       "3  {'$date': 1609687534000}  {'$date': 1609687534000}   \n",
       "4  {'$date': 1609687506000}  {'$date': 1609687506000}   \n",
       "\n",
       "               finishedDate                modifyDate   \n",
       "0  {'$date': 1609687531000}  {'$date': 1609687536000}  \\\n",
       "1  {'$date': 1609687483000}  {'$date': 1609687488000}   \n",
       "2                       NaN  {'$date': 1609687542000}   \n",
       "3  {'$date': 1609687534000}  {'$date': 1609687539000}   \n",
       "4  {'$date': 1609687511000}  {'$date': 1609687511000}   \n",
       "\n",
       "          pointsAwardedDate  pointsEarned              purchaseDate   \n",
       "0  {'$date': 1609687531000}         500.0  {'$date': 1609632000000}  \\\n",
       "1  {'$date': 1609687483000}         150.0  {'$date': 1609601083000}   \n",
       "2                       NaN           5.0  {'$date': 1609632000000}   \n",
       "3  {'$date': 1609687534000}           5.0  {'$date': 1609632000000}   \n",
       "4  {'$date': 1609687506000}           5.0  {'$date': 1609601106000}   \n",
       "\n",
       "   purchasedItemCount                             rewardsReceiptItemList   \n",
       "0                 5.0  [{'barcode': '4011', 'description': 'ITEM NOT ...  \\\n",
       "1                 2.0  [{'barcode': '4011', 'description': 'ITEM NOT ...   \n",
       "2                 1.0  [{'needsFetchReview': False, 'partnerItemId': ...   \n",
       "3                 4.0  [{'barcode': '4011', 'description': 'ITEM NOT ...   \n",
       "4                 2.0  [{'barcode': '4011', 'description': 'ITEM NOT ...   \n",
       "\n",
       "  rewardsReceiptStatus  totalSpent                    userId  \n",
       "0             FINISHED        26.0  5ff1e1eacfcf6c399c274ae6  \n",
       "1             FINISHED        11.0  5ff1e194b6a9d73a3a9f1052  \n",
       "2             REJECTED        10.0  5ff1e1f1cfcf6c399c274b0b  \n",
       "3             FINISHED        28.0  5ff1e1eacfcf6c399c274ae6  \n",
       "4             FINISHED         1.0  5ff1e194b6a9d73a3a9f1052  "
      ]
     },
     "execution_count": 265,
     "metadata": {},
     "output_type": "execute_result"
    }
   ],
   "source": [
    "receipts.head()"
   ]
  },
  {
   "cell_type": "code",
   "execution_count": 237,
   "id": "17f63f9c",
   "metadata": {},
   "outputs": [
    {
     "data": {
      "text/plain": [
       "_id                         object\n",
       "bonusPointsEarned          float64\n",
       "bonusPointsEarnedReason     object\n",
       "createDate                  object\n",
       "dateScanned                 object\n",
       "finishedDate                object\n",
       "modifyDate                  object\n",
       "pointsAwardedDate           object\n",
       "pointsEarned               float64\n",
       "purchaseDate                object\n",
       "purchasedItemCount         float64\n",
       "rewardsReceiptItemList      object\n",
       "rewardsReceiptStatus        object\n",
       "totalSpent                 float64\n",
       "userId                      object\n",
       "dtype: object"
      ]
     },
     "execution_count": 237,
     "metadata": {},
     "output_type": "execute_result"
    }
   ],
   "source": [
    "# 1. Checking if data types are correct \n",
    "receipts.dtypes\n",
    "# Date columns (createDate, dateScanned, finishedDate, modifyDate, pointsAwardedDate, purchaseDate) \n",
    "# should be updated to corresponding datetime formats."
   ]
  },
  {
   "cell_type": "code",
   "execution_count": 238,
   "id": "3d3c2030",
   "metadata": {},
   "outputs": [
    {
     "name": "stdout",
     "output_type": "stream",
     "text": [
      "<class 'pandas.core.frame.DataFrame'>\n",
      "RangeIndex: 1119 entries, 0 to 1118\n",
      "Data columns (total 15 columns):\n",
      " #   Column                   Non-Null Count  Dtype  \n",
      "---  ------                   --------------  -----  \n",
      " 0   _id                      1119 non-null   object \n",
      " 1   bonusPointsEarned        544 non-null    float64\n",
      " 2   bonusPointsEarnedReason  544 non-null    object \n",
      " 3   createDate               1119 non-null   object \n",
      " 4   dateScanned              1119 non-null   object \n",
      " 5   finishedDate             568 non-null    object \n",
      " 6   modifyDate               1119 non-null   object \n",
      " 7   pointsAwardedDate        537 non-null    object \n",
      " 8   pointsEarned             609 non-null    float64\n",
      " 9   purchaseDate             671 non-null    object \n",
      " 10  purchasedItemCount       635 non-null    float64\n",
      " 11  rewardsReceiptItemList   679 non-null    object \n",
      " 12  rewardsReceiptStatus     1119 non-null   object \n",
      " 13  totalSpent               684 non-null    float64\n",
      " 14  userId                   1119 non-null   object \n",
      "dtypes: float64(4), object(11)\n",
      "memory usage: 131.3+ KB\n"
     ]
    }
   ],
   "source": [
    "# checking datatype\n",
    "receipts.info()"
   ]
  },
  {
   "cell_type": "code",
   "execution_count": 239,
   "id": "2fa0c12f",
   "metadata": {},
   "outputs": [
    {
     "data": {
      "image/png": "[encoded data removed]",
      "text/plain": [
       "<Figure size 432x288 with 1 Axes>"
      ]
     },
     "metadata": {
      "needs_background": "light"
     },
     "output_type": "display_data"
    }
   ],
   "source": [
    "# 2. Checking if there are missing values or null values \n",
    "re_null_perc = pd.DataFrame(receipts.isnull().sum()/len(receipts))\n",
    "plt.barh(re_null_perc.index, re_null_perc[0])\n",
    "plt.title('Receipts Null Percentage')\n",
    "plt.xlim(0,1);\n",
    "\n",
    "# 9 out of 14 columns are missing approximately half of the data. "
   ]
  },
  {
   "cell_type": "code",
   "execution_count": 240,
   "id": "4de1d11e",
   "metadata": {},
   "outputs": [
    {
     "data": {
      "text/html": [
       "<div>\n",
       "<style scoped>\n",
       "    .dataframe tbody tr th:only-of-type {\n",
       "        vertical-align: middle;\n",
       "    }\n",
       "\n",
       "    .dataframe tbody tr th {\n",
       "        vertical-align: top;\n",
       "    }\n",
       "\n",
       "    .dataframe thead th {\n",
       "        text-align: right;\n",
       "    }\n",
       "</style>\n",
       "<table border=\"1\" class=\"dataframe\">\n",
       "  <thead>\n",
       "    <tr style=\"text-align: right;\">\n",
       "      <th></th>\n",
       "      <th>bonusPointsEarned</th>\n",
       "      <th>pointsEarned</th>\n",
       "      <th>purchasedItemCount</th>\n",
       "      <th>totalSpent</th>\n",
       "    </tr>\n",
       "  </thead>\n",
       "  <tbody>\n",
       "    <tr>\n",
       "      <th>count</th>\n",
       "      <td>544.000000</td>\n",
       "      <td>609.000000</td>\n",
       "      <td>635.00000</td>\n",
       "      <td>684.000000</td>\n",
       "    </tr>\n",
       "    <tr>\n",
       "      <th>mean</th>\n",
       "      <td>238.893382</td>\n",
       "      <td>585.962890</td>\n",
       "      <td>14.75748</td>\n",
       "      <td>77.796857</td>\n",
       "    </tr>\n",
       "    <tr>\n",
       "      <th>std</th>\n",
       "      <td>299.091731</td>\n",
       "      <td>1357.166947</td>\n",
       "      <td>61.13424</td>\n",
       "      <td>347.110349</td>\n",
       "    </tr>\n",
       "    <tr>\n",
       "      <th>min</th>\n",
       "      <td>5.000000</td>\n",
       "      <td>0.000000</td>\n",
       "      <td>0.00000</td>\n",
       "      <td>0.000000</td>\n",
       "    </tr>\n",
       "    <tr>\n",
       "      <th>25%</th>\n",
       "      <td>5.000000</td>\n",
       "      <td>5.000000</td>\n",
       "      <td>1.00000</td>\n",
       "      <td>1.000000</td>\n",
       "    </tr>\n",
       "    <tr>\n",
       "      <th>50%</th>\n",
       "      <td>45.000000</td>\n",
       "      <td>150.000000</td>\n",
       "      <td>2.00000</td>\n",
       "      <td>18.200000</td>\n",
       "    </tr>\n",
       "    <tr>\n",
       "      <th>75%</th>\n",
       "      <td>500.000000</td>\n",
       "      <td>750.000000</td>\n",
       "      <td>5.00000</td>\n",
       "      <td>34.960000</td>\n",
       "    </tr>\n",
       "    <tr>\n",
       "      <th>max</th>\n",
       "      <td>750.000000</td>\n",
       "      <td>10199.800000</td>\n",
       "      <td>689.00000</td>\n",
       "      <td>4721.950000</td>\n",
       "    </tr>\n",
       "  </tbody>\n",
       "</table>\n",
       "</div>"
      ],
      "text/plain": [
       "       bonusPointsEarned  pointsEarned  purchasedItemCount   totalSpent\n",
       "count         544.000000    609.000000           635.00000   684.000000\n",
       "mean          238.893382    585.962890            14.75748    77.796857\n",
       "std           299.091731   1357.166947            61.13424   347.110349\n",
       "min             5.000000      0.000000             0.00000     0.000000\n",
       "25%             5.000000      5.000000             1.00000     1.000000\n",
       "50%            45.000000    150.000000             2.00000    18.200000\n",
       "75%           500.000000    750.000000             5.00000    34.960000\n",
       "max           750.000000  10199.800000           689.00000  4721.950000"
      ]
     },
     "execution_count": 240,
     "metadata": {},
     "output_type": "execute_result"
    }
   ],
   "source": [
    "# 3. Checking if continuous variables have outliers\n",
    "receipts.describe()"
   ]
  },
  {
   "cell_type": "code",
   "execution_count": 258,
   "id": "19cf43c8",
   "metadata": {},
   "outputs": [
    {
     "data": {
      "text/html": [
       "<div>\n",
       "<style scoped>\n",
       "    .dataframe tbody tr th:only-of-type {\n",
       "        vertical-align: middle;\n",
       "    }\n",
       "\n",
       "    .dataframe tbody tr th {\n",
       "        vertical-align: top;\n",
       "    }\n",
       "\n",
       "    .dataframe thead th {\n",
       "        text-align: right;\n",
       "    }\n",
       "</style>\n",
       "<table border=\"1\" class=\"dataframe\">\n",
       "  <thead>\n",
       "    <tr style=\"text-align: right;\">\n",
       "      <th></th>\n",
       "      <th>_id</th>\n",
       "      <th>bonusPointsEarned</th>\n",
       "      <th>bonusPointsEarnedReason</th>\n",
       "      <th>createDate</th>\n",
       "      <th>dateScanned</th>\n",
       "      <th>finishedDate</th>\n",
       "      <th>modifyDate</th>\n",
       "      <th>pointsAwardedDate</th>\n",
       "      <th>pointsEarned</th>\n",
       "      <th>purchaseDate</th>\n",
       "      <th>purchasedItemCount</th>\n",
       "      <th>rewardsReceiptItemList</th>\n",
       "      <th>rewardsReceiptStatus</th>\n",
       "      <th>totalSpent</th>\n",
       "      <th>userId</th>\n",
       "    </tr>\n",
       "  </thead>\n",
       "  <tbody>\n",
       "    <tr>\n",
       "      <th>446</th>\n",
       "      <td>{'$oid': '600f24970a720f053500002f'}</td>\n",
       "      <td>NaN</td>\n",
       "      <td>NaN</td>\n",
       "      <td>{'$date': 1611605143000}</td>\n",
       "      <td>{'$date': 1611605143000}</td>\n",
       "      <td>NaN</td>\n",
       "      <td>{'$date': 1611606325000}</td>\n",
       "      <td>NaN</td>\n",
       "      <td>NaN</td>\n",
       "      <td>{'$date': 1611532800000}</td>\n",
       "      <td>599.0</td>\n",
       "      <td>[{'brandCode': 'BETTY CROCKER', 'description':...</td>\n",
       "      <td>FLAGGED</td>\n",
       "      <td>4368.80</td>\n",
       "      <td>600f20c15edb787dce060911</td>\n",
       "    </tr>\n",
       "    <tr>\n",
       "      <th>469</th>\n",
       "      <td>{'$oid': '600f39c30a7214ada2000030'}</td>\n",
       "      <td>750.0</td>\n",
       "      <td>Receipt number 1 completed, bonus point schedu...</td>\n",
       "      <td>{'$date': 1611610563000}</td>\n",
       "      <td>{'$date': 1611610563000}</td>\n",
       "      <td>{'$date': 1611630363000}</td>\n",
       "      <td>{'$date': 1611630460000}</td>\n",
       "      <td>{'$date': 1611630363000}</td>\n",
       "      <td>7137.2</td>\n",
       "      <td>{'$date': 1611446400000}</td>\n",
       "      <td>670.0</td>\n",
       "      <td>[{'brandCode': 'BETTY CROCKER', 'description':...</td>\n",
       "      <td>FINISHED</td>\n",
       "      <td>4721.95</td>\n",
       "      <td>600f35015edb782098e2ac1b</td>\n",
       "    </tr>\n",
       "    <tr>\n",
       "      <th>543</th>\n",
       "      <td>{'$oid': '600f2fc80a720f0535000030'}</td>\n",
       "      <td>750.0</td>\n",
       "      <td>Receipt number 1 completed, bonus point schedu...</td>\n",
       "      <td>{'$date': 1611608008000}</td>\n",
       "      <td>{'$date': 1611608008000}</td>\n",
       "      <td>{'$date': 1611612263000}</td>\n",
       "      <td>{'$date': 1611873422000}</td>\n",
       "      <td>{'$date': 1611612263000}</td>\n",
       "      <td>4944.7</td>\n",
       "      <td>{'$date': 1611446400000}</td>\n",
       "      <td>689.0</td>\n",
       "      <td>[{'brandCode': 'BETTY CROCKER', 'description':...</td>\n",
       "      <td>FINISHED</td>\n",
       "      <td>4566.17</td>\n",
       "      <td>600f29a64329897eac239049</td>\n",
       "    </tr>\n",
       "  </tbody>\n",
       "</table>\n",
       "</div>"
      ],
      "text/plain": [
       "                                      _id  bonusPointsEarned   \n",
       "446  {'$oid': '600f24970a720f053500002f'}                NaN  \\\n",
       "469  {'$oid': '600f39c30a7214ada2000030'}              750.0   \n",
       "543  {'$oid': '600f2fc80a720f0535000030'}              750.0   \n",
       "\n",
       "                               bonusPointsEarnedReason   \n",
       "446                                                NaN  \\\n",
       "469  Receipt number 1 completed, bonus point schedu...   \n",
       "543  Receipt number 1 completed, bonus point schedu...   \n",
       "\n",
       "                   createDate               dateScanned   \n",
       "446  {'$date': 1611605143000}  {'$date': 1611605143000}  \\\n",
       "469  {'$date': 1611610563000}  {'$date': 1611610563000}   \n",
       "543  {'$date': 1611608008000}  {'$date': 1611608008000}   \n",
       "\n",
       "                 finishedDate                modifyDate   \n",
       "446                       NaN  {'$date': 1611606325000}  \\\n",
       "469  {'$date': 1611630363000}  {'$date': 1611630460000}   \n",
       "543  {'$date': 1611612263000}  {'$date': 1611873422000}   \n",
       "\n",
       "            pointsAwardedDate  pointsEarned              purchaseDate   \n",
       "446                       NaN           NaN  {'$date': 1611532800000}  \\\n",
       "469  {'$date': 1611630363000}        7137.2  {'$date': 1611446400000}   \n",
       "543  {'$date': 1611612263000}        4944.7  {'$date': 1611446400000}   \n",
       "\n",
       "     purchasedItemCount                             rewardsReceiptItemList   \n",
       "446               599.0  [{'brandCode': 'BETTY CROCKER', 'description':...  \\\n",
       "469               670.0  [{'brandCode': 'BETTY CROCKER', 'description':...   \n",
       "543               689.0  [{'brandCode': 'BETTY CROCKER', 'description':...   \n",
       "\n",
       "    rewardsReceiptStatus  totalSpent                    userId  \n",
       "446              FLAGGED     4368.80  600f20c15edb787dce060911  \n",
       "469             FINISHED     4721.95  600f35015edb782098e2ac1b  \n",
       "543             FINISHED     4566.17  600f29a64329897eac239049  "
      ]
     },
     "execution_count": 258,
     "metadata": {},
     "output_type": "execute_result"
    }
   ],
   "source": [
    "receipts[receipts['totalSpent'] > 4000]"
   ]
  },
  {
   "cell_type": "code",
   "execution_count": 261,
   "id": "b2066359",
   "metadata": {
    "scrolled": true
   },
   "outputs": [
    {
     "data": {
      "image/png": "[encoded data removed]",
      "text/plain": [
       "<Figure size 432x288 with 1 Axes>"
      ]
     },
     "metadata": {
      "needs_background": "light"
     },
     "output_type": "display_data"
    }
   ],
   "source": [
    "plt.hist(receipts['totalSpent'])\n",
    "plt.title('Histogram of totalSpent');\n",
    "# I have identified three receipts where the customers spent more than 4000 dollars. "
   ]
  },
  {
   "cell_type": "code",
   "execution_count": 263,
   "id": "39d41377",
   "metadata": {},
   "outputs": [
    {
     "data": {
      "image/png": "[encoded data removed]",
      "text/plain": [
       "<Figure size 432x288 with 1 Axes>"
      ]
     },
     "metadata": {
      "needs_background": "light"
     },
     "output_type": "display_data"
    }
   ],
   "source": [
    "plt.hist(receipts['pointsEarned']);\n",
    "plt.title('Histogram of pointsEarned');\n",
    "# I have identified nine receipts where the customers earned more than 8000 points. "
   ]
  },
  {
   "cell_type": "code",
   "execution_count": 262,
   "id": "f360a14f",
   "metadata": {},
   "outputs": [
    {
     "data": {
      "image/png": "[encoded data removed]",
      "text/plain": [
       "<Figure size 432x288 with 1 Axes>"
      ]
     },
     "metadata": {
      "needs_background": "light"
     },
     "output_type": "display_data"
    }
   ],
   "source": [
    "plt.hist(receipts['purchasedItemCount']);\n",
    "plt.title('Histogram of purchasedItemCount');\n",
    "# I have identified three receipts where the customers purchased more than 500 items. "
   ]
  },
  {
   "cell_type": "code",
   "execution_count": 270,
   "id": "69b9c94d",
   "metadata": {},
   "outputs": [
    {
     "data": {
      "text/plain": [
       "0"
      ]
     },
     "execution_count": 270,
     "metadata": {},
     "output_type": "execute_result"
    }
   ],
   "source": [
    "# 4. Checking if there are duplicate records (primary keys are unique)\n",
    "receipts['_id'].duplicated().sum()"
   ]
  },
  {
   "cell_type": "markdown",
   "id": "1127c59e",
   "metadata": {},
   "source": [
    "## Users Data Schema"
   ]
  },
  {
   "cell_type": "code",
   "execution_count": 102,
   "id": "2a3ff055",
   "metadata": {},
   "outputs": [],
   "source": [
    "# read in receipts file\n",
    "users = pd.read_json('users.json', lines=True)"
   ]
  },
  {
   "cell_type": "code",
   "execution_count": 103,
   "id": "1cca505c",
   "metadata": {},
   "outputs": [
    {
     "data": {
      "text/html": [
       "<div>\n",
       "<style scoped>\n",
       "    .dataframe tbody tr th:only-of-type {\n",
       "        vertical-align: middle;\n",
       "    }\n",
       "\n",
       "    .dataframe tbody tr th {\n",
       "        vertical-align: top;\n",
       "    }\n",
       "\n",
       "    .dataframe thead th {\n",
       "        text-align: right;\n",
       "    }\n",
       "</style>\n",
       "<table border=\"1\" class=\"dataframe\">\n",
       "  <thead>\n",
       "    <tr style=\"text-align: right;\">\n",
       "      <th></th>\n",
       "      <th>_id</th>\n",
       "      <th>active</th>\n",
       "      <th>createdDate</th>\n",
       "      <th>lastLogin</th>\n",
       "      <th>role</th>\n",
       "      <th>signUpSource</th>\n",
       "      <th>state</th>\n",
       "    </tr>\n",
       "  </thead>\n",
       "  <tbody>\n",
       "    <tr>\n",
       "      <th>0</th>\n",
       "      <td>{'$oid': '5ff1e194b6a9d73a3a9f1052'}</td>\n",
       "      <td>True</td>\n",
       "      <td>{'$date': 1609687444800}</td>\n",
       "      <td>{'$date': 1609687537858}</td>\n",
       "      <td>consumer</td>\n",
       "      <td>Email</td>\n",
       "      <td>WI</td>\n",
       "    </tr>\n",
       "    <tr>\n",
       "      <th>1</th>\n",
       "      <td>{'$oid': '5ff1e194b6a9d73a3a9f1052'}</td>\n",
       "      <td>True</td>\n",
       "      <td>{'$date': 1609687444800}</td>\n",
       "      <td>{'$date': 1609687537858}</td>\n",
       "      <td>consumer</td>\n",
       "      <td>Email</td>\n",
       "      <td>WI</td>\n",
       "    </tr>\n",
       "    <tr>\n",
       "      <th>2</th>\n",
       "      <td>{'$oid': '5ff1e194b6a9d73a3a9f1052'}</td>\n",
       "      <td>True</td>\n",
       "      <td>{'$date': 1609687444800}</td>\n",
       "      <td>{'$date': 1609687537858}</td>\n",
       "      <td>consumer</td>\n",
       "      <td>Email</td>\n",
       "      <td>WI</td>\n",
       "    </tr>\n",
       "    <tr>\n",
       "      <th>3</th>\n",
       "      <td>{'$oid': '5ff1e1eacfcf6c399c274ae6'}</td>\n",
       "      <td>True</td>\n",
       "      <td>{'$date': 1609687530554}</td>\n",
       "      <td>{'$date': 1609687530597}</td>\n",
       "      <td>consumer</td>\n",
       "      <td>Email</td>\n",
       "      <td>WI</td>\n",
       "    </tr>\n",
       "    <tr>\n",
       "      <th>4</th>\n",
       "      <td>{'$oid': '5ff1e194b6a9d73a3a9f1052'}</td>\n",
       "      <td>True</td>\n",
       "      <td>{'$date': 1609687444800}</td>\n",
       "      <td>{'$date': 1609687537858}</td>\n",
       "      <td>consumer</td>\n",
       "      <td>Email</td>\n",
       "      <td>WI</td>\n",
       "    </tr>\n",
       "  </tbody>\n",
       "</table>\n",
       "</div>"
      ],
      "text/plain": [
       "                                    _id  active               createdDate   \n",
       "0  {'$oid': '5ff1e194b6a9d73a3a9f1052'}    True  {'$date': 1609687444800}  \\\n",
       "1  {'$oid': '5ff1e194b6a9d73a3a9f1052'}    True  {'$date': 1609687444800}   \n",
       "2  {'$oid': '5ff1e194b6a9d73a3a9f1052'}    True  {'$date': 1609687444800}   \n",
       "3  {'$oid': '5ff1e1eacfcf6c399c274ae6'}    True  {'$date': 1609687530554}   \n",
       "4  {'$oid': '5ff1e194b6a9d73a3a9f1052'}    True  {'$date': 1609687444800}   \n",
       "\n",
       "                  lastLogin      role signUpSource state  \n",
       "0  {'$date': 1609687537858}  consumer        Email    WI  \n",
       "1  {'$date': 1609687537858}  consumer        Email    WI  \n",
       "2  {'$date': 1609687537858}  consumer        Email    WI  \n",
       "3  {'$date': 1609687530597}  consumer        Email    WI  \n",
       "4  {'$date': 1609687537858}  consumer        Email    WI  "
      ]
     },
     "execution_count": 103,
     "metadata": {},
     "output_type": "execute_result"
    }
   ],
   "source": [
    "users.head()"
   ]
  },
  {
   "cell_type": "code",
   "execution_count": 252,
   "id": "57d755e7",
   "metadata": {},
   "outputs": [
    {
     "data": {
      "text/plain": [
       "_id             object\n",
       "active            bool\n",
       "createdDate     object\n",
       "lastLogin       object\n",
       "role            object\n",
       "signUpSource    object\n",
       "state           object\n",
       "dtype: object"
      ]
     },
     "execution_count": 252,
     "metadata": {},
     "output_type": "execute_result"
    }
   ],
   "source": [
    "# 1. Checking if data types are correct \n",
    "users.dtypes\n",
    "# Date columns (createdDate, lastLogin) should be updated to corresponding datetime formats."
   ]
  },
  {
   "cell_type": "code",
   "execution_count": 253,
   "id": "1b3280a5",
   "metadata": {},
   "outputs": [
    {
     "name": "stdout",
     "output_type": "stream",
     "text": [
      "<class 'pandas.core.frame.DataFrame'>\n",
      "RangeIndex: 495 entries, 0 to 494\n",
      "Data columns (total 7 columns):\n",
      " #   Column        Non-Null Count  Dtype \n",
      "---  ------        --------------  ----- \n",
      " 0   _id           495 non-null    object\n",
      " 1   active        495 non-null    bool  \n",
      " 2   createdDate   495 non-null    object\n",
      " 3   lastLogin     433 non-null    object\n",
      " 4   role          495 non-null    object\n",
      " 5   signUpSource  447 non-null    object\n",
      " 6   state         439 non-null    object\n",
      "dtypes: bool(1), object(6)\n",
      "memory usage: 23.8+ KB\n"
     ]
    }
   ],
   "source": [
    "users.info()"
   ]
  },
  {
   "cell_type": "code",
   "execution_count": 203,
   "id": "de71cc96",
   "metadata": {},
   "outputs": [
    {
     "data": {
      "image/png": "[encoded data removed]",
      "text/plain": [
       "<Figure size 432x288 with 1 Axes>"
      ]
     },
     "metadata": {
      "needs_background": "light"
     },
     "output_type": "display_data"
    }
   ],
   "source": [
    "# 2. Checking if there are missing values or null values \n",
    "users_null_perc = pd.DataFrame(users.isnull().sum()/len(users))\n",
    "plt.barh(users_null_perc.index, users_null_perc[0])\n",
    "plt.title('Users Null Percentage')\n",
    "plt.xlim(0,1);"
   ]
  },
  {
   "cell_type": "code",
   "execution_count": 271,
   "id": "91cce809",
   "metadata": {},
   "outputs": [
    {
     "data": {
      "text/plain": [
       "283"
      ]
     },
     "execution_count": 271,
     "metadata": {},
     "output_type": "execute_result"
    }
   ],
   "source": [
    "# 4. Checking if there are duplicate records (primary keys are unique)\n",
    "users['_id'].duplicated().sum()\n",
    "# 57% of the Users Data are duplicate records."
   ]
  },
  {
   "cell_type": "markdown",
   "id": "71e012d7",
   "metadata": {},
   "source": [
    "## Brand Data Schema"
   ]
  },
  {
   "cell_type": "code",
   "execution_count": 104,
   "id": "66791aa2",
   "metadata": {},
   "outputs": [],
   "source": [
    "# read in receipts file\n",
    "brands = pd.read_json('brands.json', lines=True)"
   ]
  },
  {
   "cell_type": "code",
   "execution_count": 199,
   "id": "d24a1543",
   "metadata": {},
   "outputs": [
    {
     "data": {
      "text/html": [
       "<div>\n",
       "<style scoped>\n",
       "    .dataframe tbody tr th:only-of-type {\n",
       "        vertical-align: middle;\n",
       "    }\n",
       "\n",
       "    .dataframe tbody tr th {\n",
       "        vertical-align: top;\n",
       "    }\n",
       "\n",
       "    .dataframe thead th {\n",
       "        text-align: right;\n",
       "    }\n",
       "</style>\n",
       "<table border=\"1\" class=\"dataframe\">\n",
       "  <thead>\n",
       "    <tr style=\"text-align: right;\">\n",
       "      <th></th>\n",
       "      <th>_id</th>\n",
       "      <th>barcode</th>\n",
       "      <th>category</th>\n",
       "      <th>categoryCode</th>\n",
       "      <th>cpg</th>\n",
       "      <th>name</th>\n",
       "      <th>topBrand</th>\n",
       "      <th>brandCode</th>\n",
       "    </tr>\n",
       "  </thead>\n",
       "  <tbody>\n",
       "    <tr>\n",
       "      <th>0</th>\n",
       "      <td>{'$oid': '601ac115be37ce2ead437551'}</td>\n",
       "      <td>511111019862</td>\n",
       "      <td>Baking</td>\n",
       "      <td>BAKING</td>\n",
       "      <td>{'$id': {'$oid': '601ac114be37ce2ead437550'}, ...</td>\n",
       "      <td>test brand @1612366101024</td>\n",
       "      <td>0.0</td>\n",
       "      <td>NaN</td>\n",
       "    </tr>\n",
       "    <tr>\n",
       "      <th>1</th>\n",
       "      <td>{'$oid': '601c5460be37ce2ead43755f'}</td>\n",
       "      <td>511111519928</td>\n",
       "      <td>Beverages</td>\n",
       "      <td>BEVERAGES</td>\n",
       "      <td>{'$id': {'$oid': '5332f5fbe4b03c9a25efd0ba'}, ...</td>\n",
       "      <td>Starbucks</td>\n",
       "      <td>0.0</td>\n",
       "      <td>STARBUCKS</td>\n",
       "    </tr>\n",
       "    <tr>\n",
       "      <th>2</th>\n",
       "      <td>{'$oid': '601ac142be37ce2ead43755d'}</td>\n",
       "      <td>511111819905</td>\n",
       "      <td>Baking</td>\n",
       "      <td>BAKING</td>\n",
       "      <td>{'$id': {'$oid': '601ac142be37ce2ead437559'}, ...</td>\n",
       "      <td>test brand @1612366146176</td>\n",
       "      <td>0.0</td>\n",
       "      <td>TEST BRANDCODE @1612366146176</td>\n",
       "    </tr>\n",
       "    <tr>\n",
       "      <th>3</th>\n",
       "      <td>{'$oid': '601ac142be37ce2ead43755a'}</td>\n",
       "      <td>511111519874</td>\n",
       "      <td>Baking</td>\n",
       "      <td>BAKING</td>\n",
       "      <td>{'$id': {'$oid': '601ac142be37ce2ead437559'}, ...</td>\n",
       "      <td>test brand @1612366146051</td>\n",
       "      <td>0.0</td>\n",
       "      <td>TEST BRANDCODE @1612366146051</td>\n",
       "    </tr>\n",
       "    <tr>\n",
       "      <th>4</th>\n",
       "      <td>{'$oid': '601ac142be37ce2ead43755e'}</td>\n",
       "      <td>511111319917</td>\n",
       "      <td>Candy &amp; Sweets</td>\n",
       "      <td>CANDY_AND_SWEETS</td>\n",
       "      <td>{'$id': {'$oid': '5332fa12e4b03c9a25efd1e7'}, ...</td>\n",
       "      <td>test brand @1612366146827</td>\n",
       "      <td>0.0</td>\n",
       "      <td>TEST BRANDCODE @1612366146827</td>\n",
       "    </tr>\n",
       "  </tbody>\n",
       "</table>\n",
       "</div>"
      ],
      "text/plain": [
       "                                    _id       barcode        category   \n",
       "0  {'$oid': '601ac115be37ce2ead437551'}  511111019862          Baking  \\\n",
       "1  {'$oid': '601c5460be37ce2ead43755f'}  511111519928       Beverages   \n",
       "2  {'$oid': '601ac142be37ce2ead43755d'}  511111819905          Baking   \n",
       "3  {'$oid': '601ac142be37ce2ead43755a'}  511111519874          Baking   \n",
       "4  {'$oid': '601ac142be37ce2ead43755e'}  511111319917  Candy & Sweets   \n",
       "\n",
       "       categoryCode                                                cpg   \n",
       "0            BAKING  {'$id': {'$oid': '601ac114be37ce2ead437550'}, ...  \\\n",
       "1         BEVERAGES  {'$id': {'$oid': '5332f5fbe4b03c9a25efd0ba'}, ...   \n",
       "2            BAKING  {'$id': {'$oid': '601ac142be37ce2ead437559'}, ...   \n",
       "3            BAKING  {'$id': {'$oid': '601ac142be37ce2ead437559'}, ...   \n",
       "4  CANDY_AND_SWEETS  {'$id': {'$oid': '5332fa12e4b03c9a25efd1e7'}, ...   \n",
       "\n",
       "                        name  topBrand                      brandCode  \n",
       "0  test brand @1612366101024       0.0                            NaN  \n",
       "1                  Starbucks       0.0                      STARBUCKS  \n",
       "2  test brand @1612366146176       0.0  TEST BRANDCODE @1612366146176  \n",
       "3  test brand @1612366146051       0.0  TEST BRANDCODE @1612366146051  \n",
       "4  test brand @1612366146827       0.0  TEST BRANDCODE @1612366146827  "
      ]
     },
     "execution_count": 199,
     "metadata": {},
     "output_type": "execute_result"
    }
   ],
   "source": [
    "brands.head()"
   ]
  },
  {
   "cell_type": "code",
   "execution_count": 254,
   "id": "6df16e50",
   "metadata": {},
   "outputs": [
    {
     "data": {
      "text/plain": [
       "_id              object\n",
       "barcode           int64\n",
       "category         object\n",
       "categoryCode     object\n",
       "cpg              object\n",
       "name             object\n",
       "topBrand        float64\n",
       "brandCode        object\n",
       "dtype: object"
      ]
     },
     "execution_count": 254,
     "metadata": {},
     "output_type": "execute_result"
    }
   ],
   "source": [
    "# 1. Checking if data types are correct \n",
    "brands.dtypes\n",
    "# topBrand is Boolean indicator for whether the brand should be featured as a 'top brand'\n",
    "# topBrand should be updated to Bool data type."
   ]
  },
  {
   "cell_type": "code",
   "execution_count": 256,
   "id": "d8a8856c",
   "metadata": {},
   "outputs": [
    {
     "name": "stdout",
     "output_type": "stream",
     "text": [
      "<class 'pandas.core.frame.DataFrame'>\n",
      "RangeIndex: 1167 entries, 0 to 1166\n",
      "Data columns (total 8 columns):\n",
      " #   Column        Non-Null Count  Dtype  \n",
      "---  ------        --------------  -----  \n",
      " 0   _id           1167 non-null   object \n",
      " 1   barcode       1167 non-null   int64  \n",
      " 2   category      1012 non-null   object \n",
      " 3   categoryCode  517 non-null    object \n",
      " 4   cpg           1167 non-null   object \n",
      " 5   name          1167 non-null   object \n",
      " 6   topBrand      555 non-null    float64\n",
      " 7   brandCode     933 non-null    object \n",
      "dtypes: float64(1), int64(1), object(6)\n",
      "memory usage: 73.1+ KB\n"
     ]
    }
   ],
   "source": [
    "brands.info()"
   ]
  },
  {
   "cell_type": "code",
   "execution_count": 205,
   "id": "bab0992b",
   "metadata": {},
   "outputs": [
    {
     "data": {
      "image/png": "[encoded data removed]",
      "text/plain": [
       "<Figure size 432x288 with 1 Axes>"
      ]
     },
     "metadata": {
      "needs_background": "light"
     },
     "output_type": "display_data"
    }
   ],
   "source": [
    "# 2. Checking if there are missing values or null values \n",
    "brands_null_perc = pd.DataFrame(brands.isnull().sum()/len(brands))\n",
    "plt.barh(brands_null_perc.index, brands_null_perc[0])\n",
    "plt.title('Brands Null Percentage')\n",
    "plt.xlim(0,1);\n",
    "# topBrand & categoryCode have over 50% of missing data"
   ]
  },
  {
   "cell_type": "code",
   "execution_count": 259,
   "id": "5cbbbfea",
   "metadata": {},
   "outputs": [
    {
     "data": {
      "text/html": [
       "<div>\n",
       "<style scoped>\n",
       "    .dataframe tbody tr th:only-of-type {\n",
       "        vertical-align: middle;\n",
       "    }\n",
       "\n",
       "    .dataframe tbody tr th {\n",
       "        vertical-align: top;\n",
       "    }\n",
       "\n",
       "    .dataframe thead th {\n",
       "        text-align: right;\n",
       "    }\n",
       "</style>\n",
       "<table border=\"1\" class=\"dataframe\">\n",
       "  <thead>\n",
       "    <tr style=\"text-align: right;\">\n",
       "      <th></th>\n",
       "      <th>barcode</th>\n",
       "      <th>topBrand</th>\n",
       "    </tr>\n",
       "  </thead>\n",
       "  <tbody>\n",
       "    <tr>\n",
       "      <th>count</th>\n",
       "      <td>1.167000e+03</td>\n",
       "      <td>555.000000</td>\n",
       "    </tr>\n",
       "    <tr>\n",
       "      <th>mean</th>\n",
       "      <td>5.111115e+11</td>\n",
       "      <td>0.055856</td>\n",
       "    </tr>\n",
       "    <tr>\n",
       "      <th>std</th>\n",
       "      <td>2.874497e+05</td>\n",
       "      <td>0.229850</td>\n",
       "    </tr>\n",
       "    <tr>\n",
       "      <th>min</th>\n",
       "      <td>5.111110e+11</td>\n",
       "      <td>0.000000</td>\n",
       "    </tr>\n",
       "    <tr>\n",
       "      <th>25%</th>\n",
       "      <td>5.111112e+11</td>\n",
       "      <td>0.000000</td>\n",
       "    </tr>\n",
       "    <tr>\n",
       "      <th>50%</th>\n",
       "      <td>5.111114e+11</td>\n",
       "      <td>0.000000</td>\n",
       "    </tr>\n",
       "    <tr>\n",
       "      <th>75%</th>\n",
       "      <td>5.111117e+11</td>\n",
       "      <td>0.000000</td>\n",
       "    </tr>\n",
       "    <tr>\n",
       "      <th>max</th>\n",
       "      <td>5.111119e+11</td>\n",
       "      <td>1.000000</td>\n",
       "    </tr>\n",
       "  </tbody>\n",
       "</table>\n",
       "</div>"
      ],
      "text/plain": [
       "            barcode    topBrand\n",
       "count  1.167000e+03  555.000000\n",
       "mean   5.111115e+11    0.055856\n",
       "std    2.874497e+05    0.229850\n",
       "min    5.111110e+11    0.000000\n",
       "25%    5.111112e+11    0.000000\n",
       "50%    5.111114e+11    0.000000\n",
       "75%    5.111117e+11    0.000000\n",
       "max    5.111119e+11    1.000000"
      ]
     },
     "execution_count": 259,
     "metadata": {},
     "output_type": "execute_result"
    }
   ],
   "source": [
    "# 3. Checking if continuous variables have outliers\n",
    "brands.describe()\n",
    "# topBrand looks good for Boolean value"
   ]
  },
  {
   "cell_type": "code",
   "execution_count": 272,
   "id": "823b7440",
   "metadata": {},
   "outputs": [
    {
     "data": {
      "text/plain": [
       "0"
      ]
     },
     "execution_count": 272,
     "metadata": {},
     "output_type": "execute_result"
    }
   ],
   "source": [
    "# 4. Checking if there are duplicate records (primary keys are unique)\n",
    "brands['_id'].duplicated().sum()"
   ]
  }
 ],
 "metadata": {
  "kernelspec": {
   "display_name": "Python 3 (ipykernel)",
   "language": "python",
   "name": "python3"
  },
  "language_info": {
   "codemirror_mode": {
    "name": "ipython",
    "version": 3
   },
   "file_extension": ".py",
   "mimetype": "text/x-python",
   "name": "python",
   "nbconvert_exporter": "python",
   "pygments_lexer": "ipython3",
   "version": "3.9.12"
  }
 },
 "nbformat": 4,
 "nbformat_minor": 5
}
